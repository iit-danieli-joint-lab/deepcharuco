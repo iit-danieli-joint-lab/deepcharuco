{
 "cells": [
  {
   "cell_type": "code",
   "execution_count": 1,
   "metadata": {},
   "outputs": [
    {
     "name": "stderr",
     "output_type": "stream",
     "text": [
      "/home/alessia/mambaforge/envs/deepcharuco/lib/python3.10/site-packages/lightning_fabric/utilities/cloud_io.py:51: FutureWarning: You are using `torch.load` with `weights_only=False` (the current default value), which uses the default pickle module implicitly. It is possible to construct malicious pickle data which will execute arbitrary code during unpickling (See https://github.com/pytorch/pytorch/blob/main/SECURITY.md#untrusted-models for more details). In a future release, the default value for `weights_only` will be flipped to `True`. This limits the functions that could be executed during unpickling. Arbitrary objects will no longer be allowed to be loaded via this mode unless they are explicitly allowlisted by the user via `torch.serialization.add_safe_globals`. We recommend you start setting `weights_only=True` for any use case where you don't have full control of the loaded file. Please open an issue on GitHub for any issues related to this experimental feature.\n",
      "  return torch.load(f, map_location=map_location)  # type: ignore[arg-type]\n"
     ]
    }
   ],
   "source": [
    "import cv2\n",
    "from inference import infer_image, load_models\n",
    "\n",
    "# Load models\n",
    "deepc_path = './reference/longrun-epoch=99-step=369700.ckpt'\n",
    "refinenet_path = './reference/second-refinenet-epoch-100-step=373k.ckpt'\n",
    "n_ids = 9\n",
    " # The number of corners (models pretrained use 16 for default board)\n",
    "device = 'cuda'   # use device: cpu / mps / cuda\n",
    "refinenet = load_models(refinenet_path, device='cuda')\n",
    "\n",
    "# Run inference on BGR image\n",
    "img = cv2.imread('/home/alessia/Desktop/calibration_charuco/pictures_bcharuco_valtest/render_000.png')\n"
   ]
  },
  {
   "cell_type": "code",
   "execution_count": 2,
   "metadata": {},
   "outputs": [
    {
     "name": "stdout",
     "output_type": "stream",
     "text": [
      "(2176, 4112, 3)\n"
     ]
    }
   ],
   "source": [
    "\n",
    "\n",
    "print(img.shape)"
   ]
  },
  {
   "cell_type": "code",
   "execution_count": 3,
   "metadata": {},
   "outputs": [],
   "source": [
    "def click_event(event, x, y, flags, param):\n",
    "    # Check for left mouse button click\n",
    "    if event == cv2.EVENT_LBUTTONDOWN:\n",
    "        # Print the coordinates to the console\n",
    "        print(f\"Clicked coordinates: ({x}, {y})\")\n",
    "\n",
    "        # Optionally, display the coordinates on the image\n",
    "        font = cv2.FONT_HERSHEY_SIMPLEX\n",
    "\n",
    "\n",
    "\n",
    "cv2.namedWindow(\"image\", cv2.WND_PROP_FULLSCREEN)\n",
    "cv2.setWindowProperty(\"image\", cv2.WND_PROP_FULLSCREEN, cv2.WINDOW_FULLSCREEN)\n",
    "# # Display the image in a window\n",
    "# cv2.imshow('image', img)\n",
    "\n",
    "# # Set the mouse callback function to 'click_event'\n",
    "# cv2.setMouseCallback('image', click_event)\n",
    "\n",
    "# # Wait until a key is pressed\n",
    "# cv2.waitKey(0)\n",
    "\n",
    "# Destroy all OpenCV windows\n",
    "cv2.destroyAllWindows()\n"
   ]
  },
  {
   "cell_type": "code",
   "execution_count": 4,
   "metadata": {},
   "outputs": [],
   "source": [
    "cv2.namedWindow('img', cv2.WND_PROP_FULLSCREEN)\n",
    "cv2.setWindowProperty('img', cv2.WND_PROP_FULLSCREEN, cv2.WINDOW_FULLSCREEN)\n",
    "# cv2.imshow('img',img)\n",
    "# cv2.waitKey(0)\n",
    "cv2.destroyAllWindows()"
   ]
  },
  {
   "cell_type": "code",
   "execution_count": 5,
   "metadata": {},
   "outputs": [
    {
     "name": "stdout",
     "output_type": "stream",
     "text": [
      "[[3368  615]]\n"
     ]
    }
   ],
   "source": [
    "import numpy as np\n",
    "keypoint=np.array([[3368., 615.]]).astype(np.int64)\n",
    "print(keypoint)"
   ]
  },
  {
   "cell_type": "code",
   "execution_count": 6,
   "metadata": {},
   "outputs": [
    {
     "name": "stdout",
     "output_type": "stream",
     "text": [
      "torch.int64\n",
      "torch.int64\n",
      "torch.int64\n",
      "torch.float32\n",
      "float32\n",
      "[[3.3715000e+03 6.1187500e+02 9.2141264e+33]]\n"
     ]
    }
   ],
   "source": [
    "keypoints, out_img = infer_image(img, keypoint, 1, refinenet, draw_pred=True, device='cuda')\n",
    "\n",
    "print(keypoints)\n"
   ]
  },
  {
   "cell_type": "code",
   "execution_count": 7,
   "metadata": {},
   "outputs": [],
   "source": [
    "cv2.namedWindow('out img', cv2.WND_PROP_FULLSCREEN)\n",
    "cv2.setWindowProperty('out img', cv2.WND_PROP_FULLSCREEN, cv2.WINDOW_FULLSCREEN)\n",
    "cv2.imshow('out img',out_img)\n",
    "cv2.waitKey(0)\n",
    "cv2.destroyAllWindows()"
   ]
  },
  {
   "cell_type": "code",
   "execution_count": 10,
   "metadata": {},
   "outputs": [
    {
     "name": "stdout",
     "output_type": "stream",
     "text": [
      "(24, 24, 3)\n"
     ]
    }
   ],
   "source": [
    "cropped_image=out_img[612-12:612+12, 3368-12:3368+12]\n",
    "print(cropped_image.shape)\n",
    "cv2.namedWindow('out img', cv2.WND_PROP_FULLSCREEN)\n",
    "cv2.setWindowProperty('out img', cv2.WND_PROP_FULLSCREEN, cv2.WINDOW_FULLSCREEN)\n",
    "cv2.imshow('out img',cropped_image)\n",
    "cv2.waitKey(0)\n",
    "cv2.destroyAllWindows()"
   ]
  },
  {
   "cell_type": "code",
   "execution_count": 9,
   "metadata": {},
   "outputs": [],
   "source": [
    "\n",
    "# # The out_img will have corners plotted on it if draw_pred is True\n",
    "# # The keypoints format is (x, y, id_corner)\n",
    "# keypoints, out_img = infer_image(img, n_ids, deepc, refinenet, draw_pred=True, device=device)\n",
    "from inference import solve_pnp\n",
    "\n",
    "# load your intrinsics as camera_matrix and dist_coeffs\n",
    "# check calib_intrinsics for a reference how I generated them.\n",
    "# Check the solve pnp function and adapt it to your needs.\n",
    "# ret, rvec, tvec = solve_pnp(keypoints, col_count, row_count, square_len,\n",
    "#                             camera_matrix, dist_coeffs)"
   ]
  }
 ],
 "metadata": {
  "kernelspec": {
   "display_name": "deepcharuco",
   "language": "python",
   "name": "python3"
  },
  "language_info": {
   "codemirror_mode": {
    "name": "ipython",
    "version": 3
   },
   "file_extension": ".py",
   "mimetype": "text/x-python",
   "name": "python",
   "nbconvert_exporter": "python",
   "pygments_lexer": "ipython3",
   "version": "3.10.8"
  }
 },
 "nbformat": 4,
 "nbformat_minor": 2
}
